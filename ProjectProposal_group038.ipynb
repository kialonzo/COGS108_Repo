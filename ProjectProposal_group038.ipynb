{
 "cells": [
  {
   "cell_type": "markdown",
   "metadata": {
    "id": "W3oFOltGVKjJ"
   },
   "source": [
    "# COGS 108 - Final Project Proposal"
   ]
  },
  {
   "cell_type": "markdown",
   "metadata": {
    "id": "a29gJmOcVKjq"
   },
   "source": [
    "# Names\n",
    "\n",
    "- Nick Fithen\n",
    "- Lupe De Anda\n",
    "- Andrew Lona\n",
    "- Kimberly Alonzo\n",
    "- Andres Villegas"
   ]
  },
  {
   "cell_type": "markdown",
   "metadata": {
    "id": "2XZRc2lJVKju"
   },
   "source": [
    "# Research Question"
   ]
  },
  {
   "cell_type": "markdown",
   "metadata": {
    "id": "_y4m4w5fVKj1"
   },
   "source": [
    "Is there a causal relationship between the amount of nationwide police shootings and the increase of bills proposed in California concerning law enforcement?\n"
   ]
  },
  {
   "cell_type": "markdown",
   "metadata": {
    "id": "OfZlob8KVKj5"
   },
   "source": [
    "## Background and Prior Work"
   ]
  },
  {
   "cell_type": "markdown",
   "metadata": {
    "id": "m-pk8MyRVKj7"
   },
   "source": [
    "*Introduction:*\n",
    "\n",
    "As the occurrence of police-involved shootings continue to increase, the public is becoming more and more aware of them. We aim to look for a causal relationship between the number of bills proposed in California for a given period and the number of reported police-involved shootings. We hope to construct a model that can track these future happenings and find a relationship between enforcement shootings and an increase or decrease in bill proposals. The proposal of bills in California are actions that will certainly be present in the future as government officials are always looking for ways to improve their quality of living. The continued use of firearms in State Enforcement will provide future data of enforcement related shootings.  \n",
    "\n",
    "*Prior Work:*\n",
    "\n",
    "Michael Luca, Deepak Malhotra, and Christopher Poliquin \n",
    "conducted a study on the impact of mass shootings on gun policy. They found that mass shootings evoke large policy responses, specifically, a 15% increase in firearm bills inroduced.They also found that the amount of firearm bills that were actually enacted into law depended on the party in power, with a Replican controlled legislature resulting in less gun restrictions. They concluded that there was no significant effect of mass shootings on enacted laws for tighter gun restrictions. This study is relevant to our project in terms of how they analyzed and visualized the bills that were introduced.\n",
    "\n",
    "Luca: https://www.hbs.edu/ris/Publication%20Files/16-126_ce055015-fc1c-4a8c-9a8a-8a9361d808bb.pdf \n",
    "\n",
    "Raheem Hosseini points out in his article, \"Will California Change Policing\", how current law enforcement related bills are being proposed in response to shooting involving police. Hosseini states that law enforcement groups claim that a bill that would bar officers from using chokeholds wasn't explicit enough for officers to know they can defend themselves. Hosseini includes an assembly member's response which was that the right for officers to defend themselves is clear in the state penal code so they didn't want to make the bill text redundant. This is relevant to our topic because the level of how explicit a bill's text tends to be. We will used a broad range of terms when trying to pull out the law-enforcement related bills from the database.\n",
    "\n",
    "Hosseini: https://calmatters.org/justice/2020/08/california-police-reform-bills/ \n",
    "\n",
    "*Initial Research:*\n",
    "\n",
    "- 1) Links to words associated with law enforcement. \n",
    "  - Link(s): \n",
    "  - (1) https://policeteststudyguide.com/top-50-police-vocabulary-you-need-to-know/ \n",
    "  - (2) https://policecodes.net/\n",
    "- 2) An up-to-date catalog of all reported police-related shootings in the US from Jan 2, 2015. Information contains names of victims, their location by coordinates, city and state, whether they were armed, victim's age, gender, and race, as well as threat level.\n",
    "  - Link: https://github.com/washingtonpost/data-police-shootings\n",
    "- 3) A dataframe of all currently proposed and in-progress bills within the California legislature organized by bill number. It contains the title of the bill, bill number, name of the main author, and progress.\n",
    "  - Link: https://leginfo.legislature.ca.gov/faces/billSearchClient.xhtml"
   ]
  },
  {
   "cell_type": "markdown",
   "metadata": {
    "id": "gp1wFf_DVKj9"
   },
   "source": [
    "# Hypothesis\n"
   ]
  },
  {
   "cell_type": "markdown",
   "metadata": {
    "id": "6dji7LeVVKj_"
   },
   "source": [
    "We hypothesize that there is a significant relationship between the amount of nationwide police shootings and number of law enforcement-related bills proposed within California.\n",
    "As the public becomes more aware of police-involved shootings, bills for law-enforcement reform become introduced more frequently."
   ]
  },
  {
   "cell_type": "markdown",
   "metadata": {
    "id": "jAU4h5TWVKkB"
   },
   "source": [
    "# Data"
   ]
  },
  {
   "cell_type": "markdown",
   "metadata": {
    "id": "eV6O3_OHVKkC"
   },
   "source": [
    "- The ideal dataset would contain observations by year (or month, if possible) of bill proposals related to law enforcement with variables consisting of:\n",
    "  - number of bills in the given period\n",
    "  - number of reported police-involved shootings in that period (aka number of victims)\n",
    "  - politicians who introduced said bills\n",
    "  - keywords mentioned in each bill title\n",
    "- This ideal dataset is everchanging based on the research currently being conducted, but overall, we hope to have a chronological dataset consisting of information pulled from the news records of police shootings and type/number of bills proposed. The data will most likely be organized by year unless a web scraping tool can be constructed to pull exact dates from each bill. A list of common \"law enforcement terms\" will also be created through our research in order to know which bills fit the description of \"relating to law enforcement\".\n",
    "- The bill count within said finished dataset should strictly be of California in order to reduce scope, but will still retain nationwide reported police shootings as our research question focuses on the reports in the media, rather than police shootings within CA.\n",
    "- We will collect the data on proposed bills using web scraping (BeautifulSoup) and read the csv dataset from the Washington Post using pandas. The final dataframe will be made using pandas and used to generate plots with a combination of Seaborn and Matplotlib.\n",
    "- Dataframe will end up a combination of strings (Politician names, bill keywords) and integers/floats (keyword counts, bill counts, number of reported shootings). The strings may assist us with discovering trends while the numerical data will help us visualize trends if there are any."
   ]
  },
  {
   "cell_type": "markdown",
   "metadata": {
    "id": "UC_P61O4VKkD"
   },
   "source": [
    "# Ethics & Privacy"
   ]
  },
  {
   "cell_type": "markdown",
   "metadata": {
    "id": "ycLlJrHCVKkI"
   },
   "source": [
    "- Names of victims will most likely be too sensitive of information to include in our reported results. To prevent this, we will drop the names from the dataset and complete our research by using the unique identifiers of each individual given in the dataset.\n",
    "- The database for police shootings states that there are 301 shootings that are unaccounted for due to unverified locations which creates a bias because of the missing information. FBI and CDC officials acknowledge that while they attempt to log all instances of fatal shootings by police, their data is incomplete. We must also, then, acknowledge that the dataset we are working with is not a complete and comprehensive set and be mindful of this while conducting analysis.\n",
    "-When using webscraping to isolate the bills relating to law enforcement, the bills containing vague or misleading language could be left undetected. To prevent this, we will use a broad list of law enforcement terms to detect as many bills as possible."
   ]
  },
  {
   "cell_type": "markdown",
   "metadata": {
    "id": "xPmozs_FVKkK"
   },
   "source": [
    "# Team Expectations "
   ]
  },
  {
   "cell_type": "markdown",
   "metadata": {
    "id": "0gsmIT3_VKkL"
   },
   "source": [
    "* We expect that every team member completes their share of the project to the best of their ability. \n",
    "* We expect that all team members try to show up to scheduled meeting times. We understand that everyone has other responsibilites outside of this class, so communication is important to let other members know if someone is not going to be present.\n",
    "* We expect that if any one of the members is struggling with their part of the project that they communicate what they need help with to the rest of the team."
   ]
  },
  {
   "cell_type": "markdown",
   "metadata": {
    "id": "85f_KEuHVKkN"
   },
   "source": [
    "# Project Timeline Proposal"
   ]
  },
  {
   "cell_type": "markdown",
   "metadata": {
    "id": "-9p4K1yEVKkO"
   },
   "source": [
    "| Meeting Date  | Meeting Time| Completed Before Meeting  | Discuss at Meeting |\n",
    "|---|---|---|---|\n",
    "| 4/22  |  6 PM | Decide on group project topic  | Begin work and potentially finish rough Project proposal | \n",
    "| 4/23  |  5 PM |  Due date for Project Proposal | Finish fine tunings and submit through github commit | \n",
    "| 4/26  | 11 AM  | Meet with David Liau to discuss project  | Discuss Wrangling and possible analytical approaches; Assign group members to lead each specific part   |\n",
    "| 4/29  | 6 PM  | Import & Wrangle Data (Lupe); EDA (Andrew) | Review/Edit wrangling/EDA; Discuss Analysis Plan   |\n",
    "| 5/7  | 12 PM  | Checkpoint #1: Data| Discuss/edit Analysis; Complete project check-in |\n",
    "| 5/21  | 12 PM  | Checkpoint #2: EDA| Discuss/edit full project |\n",
    "| 6/19  | Before 11:59 PM  | Video and Project Due | Turn in Final Project & Group Project Surveys |"
   ]
  }
 ],
 "metadata": {
  "colab": {
   "collapsed_sections": [],
   "name": "ProjectProposal_group038.ipynb",
   "provenance": [],
   "toc_visible": true
  },
  "kernelspec": {
   "display_name": "Python 3",
   "language": "python",
   "name": "python3"
  },
  "language_info": {
   "codemirror_mode": {
    "name": "ipython",
    "version": 3
   },
   "file_extension": ".py",
   "mimetype": "text/x-python",
   "name": "python",
   "nbconvert_exporter": "python",
   "pygments_lexer": "ipython3",
   "version": "3.7.9"
  }
 },
 "nbformat": 4,
 "nbformat_minor": 0
}
